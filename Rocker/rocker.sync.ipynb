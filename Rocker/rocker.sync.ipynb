{
 "cells": [
  {
   "cell_type": "markdown",
   "id": "f0ce67f7",
   "metadata": {},
   "source": [
    "# RK2"
   ]
  },
  {
   "cell_type": "code",
   "execution_count": 10,
   "id": "a4e0ad2c",
   "metadata": {},
   "outputs": [
    {
     "data": {
      "application/vnd.jupyter.widget-view+json": {
       "model_id": "85e37546b4b34e40b1c189bcd10581b6",
       "version_major": 2,
       "version_minor": 0
      },
      "text/plain": [
       "VBox(children=(FloatSlider(value=1.0, description='Mass m', max=5.0, min=0.1), FloatSlider(value=1.0, descript…"
      ]
     },
     "metadata": {},
     "output_type": "display_data"
    },
    {
     "data": {
      "application/vnd.jupyter.widget-view+json": {
       "model_id": "d71d0bdda0ae47aa87c75af5b6b8e7f5",
       "version_major": 2,
       "version_minor": 0
      },
      "text/plain": [
       "Output()"
      ]
     },
     "metadata": {},
     "output_type": "display_data"
    }
   ],
   "source": [
    "import numpy as np\n",
    "import matplotlib.pyplot as plt\n",
    "import ipywidgets as widgets\n",
    "from IPython.display import display\n",
    "\n",
    "g = 9.81\n",
    "\n",
    "def system_dynamics(t, y, m, r, alpha, beta, J):\n",
    "    angle, angular_velocity = y\n",
    "    torque = -m * g * r * np.cos(alpha + angle) - beta * angular_velocity\n",
    "    return np.array([angular_velocity, torque / J])\n",
    "\n",
    "def rk2_step(t, h, y, m, r, alpha, beta, J):\n",
    "    k1 = h * system_dynamics(t, y, m, r, alpha, beta, J)\n",
    "    k2 = h * system_dynamics(t + h/2, y + k1/2, m, r, alpha, beta, J)\n",
    "    return y + k2\n",
    "\n",
    "def rk2_solver(a, b, n, y0, m, r, alpha, beta, J):\n",
    "    h = (b - a) / max(n, 1)\n",
    "    t = np.linspace(a, b, n + 1)\n",
    "    y = np.empty((n + 1, 2))\n",
    "    y[0] = y0\n",
    "    step = lambda i: rk2_step(t[i], h, y[i], m, r, alpha, beta, J)\n",
    "    for i in range(n):\n",
    "        y[i + 1] = step(i)\n",
    "    return t, y[:, 0], y[:, 1]\n",
    "\n",
    "def plot_solution(m, r, alpha_deg, beta, J, y0_angle_deg, y0_velocity):\n",
    "    a, b, n = 0.0, 10.0, 500\n",
    "    alpha = np.radians(alpha_deg)\n",
    "    y0 = np.array([np.radians(y0_angle_deg), y0_velocity])\n",
    "    t, y, dy = rk2_solver(a, b, n, y0, m, r, alpha, beta, J)\n",
    "\n",
    "    fig, axs = plt.subplots(1, 3, figsize=(18, 4))\n",
    "    axs[0].plot(t, y, color='blue')\n",
    "    axs[0].set_xlabel('t')\n",
    "    axs[0].set_ylabel('y(t)')\n",
    "    axs[0].set_title('Angle vs Time')\n",
    "\n",
    "    axs[1].plot(t, dy, color='green')\n",
    "    axs[1].set_xlabel('t')\n",
    "    axs[1].set_ylabel('y\\'(t)')\n",
    "    axs[1].set_title('Angular Velocity vs Time')\n",
    "\n",
    "    axs[2].plot(y, dy, color='red')\n",
    "    axs[2].set_xlabel('y(t)')\n",
    "    axs[2].set_ylabel('y\\'(t)')\n",
    "    axs[2].set_title('Phase Space: y\\'(t) vs y(t)')\n",
    "\n",
    "    plt.tight_layout()\n",
    "    plt.show()\n",
    "\n",
    "m_slider = widgets.FloatSlider(value=1.0, min=0.1, max=5.0, step=0.1, description='Mass m')\n",
    "r_slider = widgets.FloatSlider(value=1.0, min=0.1, max=5.0, step=0.1, description='Radius r')\n",
    "alpha_slider = widgets.FloatSlider(value=0.0, min=-180.0, max=180.0, step=1.0, description='Alpha (deg)')\n",
    "beta_slider = widgets.FloatSlider(value=0.1, min=0.0, max=5.0, step=0.1, description='Damping beta')\n",
    "J_slider = widgets.FloatSlider(value=1.0, min=0.1, max=5.0, step=0.1, description='Inertia J')\n",
    "y0_angle_slider = widgets.FloatSlider(value=0.0, min=0.0, max=180.0, step=1.0, description='y0 Angle (deg)')\n",
    "y0_velocity_slider = widgets.FloatSlider(value=0.0, min=-10.0, max=10.0, step=0.1, description='y0 Velocity')\n",
    "\n",
    "ui = widgets.VBox([\n",
    "    m_slider, r_slider, alpha_slider, beta_slider, J_slider,\n",
    "    y0_angle_slider, y0_velocity_slider\n",
    "])\n",
    "\n",
    "out = widgets.interactive_output(\n",
    "    plot_solution,\n",
    "    {\n",
    "        'm': m_slider,\n",
    "        'r': r_slider,\n",
    "        'alpha_deg': alpha_slider,\n",
    "        'beta': beta_slider,\n",
    "        'J': J_slider,\n",
    "        'y0_angle_deg': y0_angle_slider,\n",
    "        'y0_velocity': y0_velocity_slider\n",
    "    }\n",
    ")\n",
    "\n",
    "display(ui, out)"
   ]
  },
  {
   "cell_type": "markdown",
   "id": "81902e9f",
   "metadata": {},
   "source": [
    "# RK4"
   ]
  },
  {
   "cell_type": "code",
   "execution_count": 11,
   "id": "743583c7",
   "metadata": {},
   "outputs": [
    {
     "data": {
      "application/vnd.jupyter.widget-view+json": {
       "model_id": "97b47e01f2384768baa557bc6cfdad08",
       "version_major": 2,
       "version_minor": 0
      },
      "text/plain": [
       "VBox(children=(FloatSlider(value=1.0, description='Mass m', max=10.0, min=0.1), FloatSlider(value=1.0, descrip…"
      ]
     },
     "metadata": {},
     "output_type": "display_data"
    },
    {
     "data": {
      "application/vnd.jupyter.widget-view+json": {
       "model_id": "f63dd6c5d22d400ca3c5e2c5775a1087",
       "version_major": 2,
       "version_minor": 0
      },
      "text/plain": [
       "Output()"
      ]
     },
     "metadata": {},
     "output_type": "display_data"
    }
   ],
   "source": [
    "import numpy as np\n",
    "import matplotlib.pyplot as plt\n",
    "import ipywidgets as widgets\n",
    "from IPython.display import display\n",
    "\n",
    "g = 9.81\n",
    "\n",
    "def system_dynamics(t, y, m, r, alpha, beta, J):\n",
    "    angle, angular_velocity = y\n",
    "    torque = -m * g * r * np.cos(alpha + angle) - beta * angular_velocity\n",
    "    return np.array([angular_velocity, torque / J])\n",
    "\n",
    "def rk4_step(t, h, y, m, r, alpha, beta, J):\n",
    "    k1 = h * system_dynamics(t, y, m, r, alpha, beta, J)\n",
    "    k2 = h * system_dynamics(t + h/2, y + k1/2, m, r, alpha, beta, J)\n",
    "    k3 = h * system_dynamics(t + h/2, y + k2/2, m, r, alpha, beta, J)\n",
    "    k4 = h * system_dynamics(t + h, y + k3, m, r, alpha, beta, J)\n",
    "    return y + (k1 + 2*k2 + 2*k3 + k4) / 6\n",
    "\n",
    "def rk4_solver(a, b, n, y0, m, r, alpha, beta, J):\n",
    "    h = (b - a) / max(n, 1)\n",
    "    t = np.linspace(a, b, n + 1)\n",
    "    y = np.empty((n + 1, 2))\n",
    "    y[0] = y0\n",
    "    step = lambda i: rk4_step(t[i], h, y[i], m, r, alpha, beta, J)\n",
    "    for i in range(n):\n",
    "        y[i + 1] = step(i)\n",
    "    return t, y[:, 0], y[:, 1]\n",
    "\n",
    "def plot_solution(m, r, alpha_deg, beta, J, y0_angle_deg, y0_velocity):\n",
    "    a, b, n = 0.0, 10.0, 500\n",
    "    alpha = np.radians(alpha_deg)\n",
    "    y0 = np.array([np.radians(y0_angle_deg), y0_velocity])\n",
    "    t, y, dy = rk4_solver(a, b, n, y0, m, r, alpha, beta, J)\n",
    "\n",
    "    fig, axs = plt.subplots(1, 3, figsize=(18, 5))\n",
    "    axs[0].plot(t, y, color='blue')\n",
    "    axs[0].set_title('Angle θ(t)')\n",
    "    axs[0].set_xlabel('Time [s]')\n",
    "    axs[0].set_ylabel('Angle [rad]')\n",
    "\n",
    "    axs[1].plot(t, dy, color='green')\n",
    "    axs[1].set_title('Angular Velocity θ\\'(t)')\n",
    "    axs[1].set_xlabel('Time [s]')\n",
    "    axs[1].set_ylabel('Angular Velocity [rad/s]')\n",
    "\n",
    "    axs[2].plot(y, dy, color='red')\n",
    "    axs[2].set_title('Phase Space (θ vs θ\\')')\n",
    "    axs[2].set_xlabel('Angle [rad]')\n",
    "    axs[2].set_ylabel('Angular Velocity [rad/s]')\n",
    "\n",
    "    plt.tight_layout()\n",
    "    plt.show()\n",
    "\n",
    "m_slider = widgets.FloatSlider(value=1.0, min=0.1, max=10.0, step=0.1, description='Mass m')\n",
    "r_slider = widgets.FloatSlider(value=1.0, min=0.1, max=5.0, step=0.1, description='r')\n",
    "alpha_slider = widgets.FloatSlider(value=0.0, min=-180, max=180, step=1, description='Alpha (°)')\n",
    "beta_slider = widgets.FloatSlider(value=0.5, min=0.0, max=5.0, step=0.1, description='Damping β')\n",
    "J_slider = widgets.FloatSlider(value=1.0, min=0.1, max=10.0, step=0.1, description='Inertia J')\n",
    "\n",
    "y0_angle_slider = widgets.FloatSlider(value=10.0, min=0.0, max=180, step=1, description='Initial θ (°)')\n",
    "y0_velocity_slider = widgets.FloatSlider(value=0.0, min=-10.0, max=10.0, step=0.1, description='Initial θ\\' (rad/s)')\n",
    "\n",
    "ui = widgets.VBox([\n",
    "    m_slider, r_slider, alpha_slider, beta_slider, J_slider,\n",
    "    y0_angle_slider, y0_velocity_slider\n",
    "])\n",
    "\n",
    "out = widgets.interactive_output(\n",
    "    plot_solution,\n",
    "    {\n",
    "        'm': m_slider,\n",
    "        'r': r_slider,\n",
    "        'alpha_deg': alpha_slider,\n",
    "        'beta': beta_slider,\n",
    "        'J': J_slider,\n",
    "        'y0_angle_deg': y0_angle_slider,\n",
    "        'y0_velocity': y0_velocity_slider\n",
    "    }\n",
    ")\n",
    "\n",
    "display(ui, out)"
   ]
  },
  {
   "cell_type": "markdown",
   "id": "359542dc",
   "metadata": {},
   "source": [
    "# RK45"
   ]
  },
  {
   "cell_type": "code",
   "execution_count": 12,
   "id": "b06083c2",
   "metadata": {},
   "outputs": [
    {
     "data": {
      "application/vnd.jupyter.widget-view+json": {
       "model_id": "61949a1b1cd6401ea01db5699fc58646",
       "version_major": 2,
       "version_minor": 0
      },
      "text/plain": [
       "VBox(children=(FloatSlider(value=1.0, description='Mass (kg)', max=10.0, min=0.1), FloatSlider(value=1.0, desc…"
      ]
     },
     "metadata": {},
     "output_type": "display_data"
    },
    {
     "data": {
      "application/vnd.jupyter.widget-view+json": {
       "model_id": "9cce7710634a457ba1a8297ba532af1e",
       "version_major": 2,
       "version_minor": 0
      },
      "text/plain": [
       "Output()"
      ]
     },
     "metadata": {},
     "output_type": "display_data"
    }
   ],
   "source": [
    "import numpy as np\n",
    "import matplotlib.pyplot as plt\n",
    "import ipywidgets as widgets\n",
    "from IPython.display import display\n",
    "from scipy.integrate import solve_ivp\n",
    "\n",
    "g = 9.81\n",
    "\n",
    "def system_dynamics(t, y, m, r, alpha, beta, J):\n",
    "    angle, angular_velocity = y\n",
    "    torque = -m * g * r * np.cos(alpha + angle) - beta * angular_velocity\n",
    "    return [angular_velocity, torque / J]\n",
    "\n",
    "def rk45_solver(a, b, y0, m, r, alpha, beta, J):\n",
    "    fun = lambda t, y: system_dynamics(t, y, m, r, alpha, beta, J)\n",
    "    sol = solve_ivp(fun, (a, b), y0, method='RK45', t_eval=np.linspace(a, b, 500))\n",
    "    return sol.t, sol.y[0], sol.y[1]\n",
    "\n",
    "def plot_solution(m, r, alpha_deg, beta, J, y0_angle_deg, y0_velocity):\n",
    "    a, b = 0.0, 10.0\n",
    "    alpha = np.radians(alpha_deg)\n",
    "    y0 = [np.radians(y0_angle_deg), y0_velocity]\n",
    "\n",
    "    t, y, dy = rk45_solver(a, b, y0, m, r, alpha, beta, J)\n",
    "\n",
    "    fig, axs = plt.subplots(1, 3, figsize=(18, 5))\n",
    "    axs[0].plot(t, y, color='blue')\n",
    "    axs[0].set_title('Angle vs Time')\n",
    "    axs[0].set_xlabel('Time (s)')\n",
    "    axs[0].set_ylabel('Angle (rad)')\n",
    "\n",
    "    axs[1].plot(t, dy, color='green')\n",
    "    axs[1].set_title('Angular Velocity vs Time')\n",
    "    axs[1].set_xlabel('Time (s)')\n",
    "    axs[1].set_ylabel('Angular Velocity (rad/s)')\n",
    "\n",
    "    axs[2].plot(y, dy, color='red')\n",
    "    axs[2].set_title('Phase Space (Angle vs Angular Velocity)')\n",
    "    axs[2].set_xlabel('Angle (rad)')\n",
    "    axs[2].set_ylabel('Angular Velocity (rad/s)')\n",
    "\n",
    "    plt.tight_layout()\n",
    "    plt.show()\n",
    "\n",
    "m_widget = widgets.FloatSlider(value=1.0, min=0.1, max=10.0, step=0.1, description='Mass (kg)')\n",
    "r_widget = widgets.FloatSlider(value=1.0, min=0.1, max=5.0, step=0.1, description='Radius (m)')\n",
    "alpha_widget = widgets.FloatSlider(value=0.0, min=-180.0, max=180.0, step=1.0, description='Alpha (deg)')\n",
    "beta_widget = widgets.FloatSlider(value=0.1, min=0.0, max=5.0, step=0.1, description='Damping (kg m²/s)')\n",
    "J_widget = widgets.FloatSlider(value=1.0, min=0.1, max=10.0, step=0.1, description='Inertia (kg m²)')\n",
    "\n",
    "y0_angle_widget = widgets.FloatSlider(value=10.0, min=0.0, max=180.0, step=1.0, description='y₀ (deg)')\n",
    "y0_velocity_widget = widgets.FloatSlider(value=0.0, min=-10.0, max=10.0, step=0.1, description=\"y'₀ (rad/s)\")\n",
    "\n",
    "ui = widgets.VBox([\n",
    "    m_widget,\n",
    "    r_widget,\n",
    "    alpha_widget,\n",
    "    beta_widget,\n",
    "    J_widget,\n",
    "    y0_angle_widget,\n",
    "    y0_velocity_widget\n",
    "])\n",
    "\n",
    "out = widgets.interactive_output(\n",
    "    plot_solution,\n",
    "    {\n",
    "        'm': m_widget,\n",
    "        'r': r_widget,\n",
    "        'alpha_deg': alpha_widget,\n",
    "        'beta': beta_widget,\n",
    "        'J': J_widget,\n",
    "        'y0_angle_deg': y0_angle_widget,\n",
    "        'y0_velocity': y0_velocity_widget\n",
    "    }\n",
    ")\n",
    "\n",
    "display(ui, out)"
   ]
  },
  {
   "cell_type": "markdown",
   "id": "a8842dd4",
   "metadata": {},
   "source": [
    "# Spectrum"
   ]
  },
  {
   "cell_type": "code",
   "execution_count": 14,
   "id": "cb3368d0",
   "metadata": {},
   "outputs": [
    {
     "data": {
      "application/vnd.jupyter.widget-view+json": {
       "model_id": "49db95b0b4604c46a89c4b23b895db9b",
       "version_major": 2,
       "version_minor": 0
      },
      "text/plain": [
       "VBox(children=(FloatSlider(value=1.0, description='Mass (kg)', max=10.0, min=0.1), FloatSlider(value=0.5, desc…"
      ]
     },
     "metadata": {},
     "output_type": "display_data"
    },
    {
     "data": {
      "application/vnd.jupyter.widget-view+json": {
       "model_id": "837851f0c72c4b129f576e86c5fa0a3d",
       "version_major": 2,
       "version_minor": 0
      },
      "text/plain": [
       "Output()"
      ]
     },
     "metadata": {},
     "output_type": "display_data"
    }
   ],
   "source": [
    "import numpy as np\n",
    "import matplotlib.pyplot as plt\n",
    "import ipywidgets as widgets\n",
    "from IPython.display import display\n",
    "from scipy.integrate import solve_ivp\n",
    "from scipy.fft import fft, fftfreq\n",
    "\n",
    "g = 9.81\n",
    "\n",
    "def system_dynamics(t, y, m, r, alpha, beta, J):\n",
    "    angle, angular_velocity = y\n",
    "    torque = -m * g * r * np.cos(alpha + angle) - beta * angular_velocity\n",
    "    return angular_velocity, torque / J\n",
    "\n",
    "def solve_motion(a, b, y0, m, r, alpha, beta, J):\n",
    "    dynamics = lambda t, y: system_dynamics(t, y, m, r, alpha, beta, J)\n",
    "    t_span = np.linspace(a, b, 500)\n",
    "    sol = solve_ivp(dynamics, (a, b), y0, method='RK45', t_eval=t_span)\n",
    "    return sol.t, sol.y[0], sol.y[1]\n",
    "\n",
    "def compute_spectrum(signal, sampling_rate):\n",
    "    n = signal.size\n",
    "    frequencies = fftfreq(n, d=1/sampling_rate)\n",
    "    spectrum = np.abs(fft(signal)) / n\n",
    "    return frequencies[:n // 2], spectrum[:n // 2]\n",
    "\n",
    "def plot_all(m, r, alpha_deg, beta, J, y0_angle_deg, y0_velocity):\n",
    "    a, b = 0.0, 10.0\n",
    "    alpha = np.radians(alpha_deg)\n",
    "    y0 = (np.radians(y0_angle_deg), y0_velocity)\n",
    "    t, y, dy = solve_motion(a, b, y0, m, r, alpha, beta, J)\n",
    "    frequencies, spectrum = compute_spectrum(y, sampling_rate=t.size / (b - a))\n",
    "\n",
    "    fig, axs = plt.subplots(2, 2, figsize=(14, 10))\n",
    "\n",
    "    axs[0, 0].plot(t, y, color='blue')\n",
    "    axs[0, 0].set_title('Angle vs Time')\n",
    "    axs[0, 0].set_xlabel('Time (s)')\n",
    "    axs[0, 0].set_ylabel('Angle (rad)')\n",
    "\n",
    "    axs[0, 1].plot(t, dy, color='green')\n",
    "    axs[0, 1].set_title('Angular Velocity vs Time')\n",
    "    axs[0, 1].set_xlabel('Time (s)')\n",
    "    axs[0, 1].set_ylabel('Angular Velocity (rad/s)')\n",
    "\n",
    "    axs[1, 0].plot(y, dy, color='red')\n",
    "    axs[1, 0].set_title('Phase Space (Angle vs Angular Velocity)')\n",
    "    axs[1, 0].set_xlabel('Angle (rad)')\n",
    "    axs[1, 0].set_ylabel('Angular Velocity (rad/s)')\n",
    "\n",
    "    axs[1, 1].plot(frequencies, spectrum, color='purple')\n",
    "    axs[1, 1].set_title('Fourier Spectrum of Angle')\n",
    "    axs[1, 1].set_xlabel('Frequency (Hz)')\n",
    "    axs[1, 1].set_ylabel('Amplitude')\n",
    "    axs[1, 1].set_xlim(0, 10)\n",
    "\n",
    "    fig.tight_layout()\n",
    "    plt.show()\n",
    "\n",
    "def create_widgets():\n",
    "    m = widgets.FloatSlider(value=1.0, min=0.1, max=10.0, step=0.1, description='Mass (kg)')\n",
    "    r = widgets.FloatSlider(value=0.5, min=0.1, max=5.0, step=0.1, description='Radius (m)')\n",
    "    alpha_deg = widgets.FloatSlider(value=0.0, min=-180, max=180, step=1, description='Alpha (deg)')\n",
    "    beta = widgets.FloatSlider(value=0.1, min=0.0, max=5.0, step=0.1, description='Damping')\n",
    "    J = widgets.FloatSlider(value=1.0, min=0.1, max=10.0, step=0.1, description='Inertia')\n",
    "    y0_angle_deg = widgets.FloatSlider(value=10.0, min=-180, max=180, step=1, description='Initial Angle (deg)')\n",
    "    y0_velocity = widgets.FloatSlider(value=0.0, min=-10.0, max=10.0, step=0.1, description='Initial Velocity')\n",
    "\n",
    "    ui = widgets.VBox([m, r, alpha_deg, beta, J, y0_angle_deg, y0_velocity])\n",
    "    out = widgets.interactive_output(\n",
    "        plot_all,\n",
    "        {'m': m, 'r': r, 'alpha_deg': alpha_deg, 'beta': beta, 'J': J, 'y0_angle_deg': y0_angle_deg, 'y0_velocity': y0_velocity}\n",
    "    )\n",
    "    display(ui, out)\n",
    "\n",
    "create_widgets()"
   ]
  }
 ],
 "metadata": {
  "kernelspec": {
   "display_name": "Python 3 (ipykernel)",
   "language": "python",
   "name": "python3"
  },
  "language_info": {
   "codemirror_mode": {
    "name": "ipython",
    "version": 3
   },
   "file_extension": ".py",
   "mimetype": "text/x-python",
   "name": "python",
   "nbconvert_exporter": "python",
   "pygments_lexer": "ipython3",
   "version": "3.11.2"
  }
 },
 "nbformat": 4,
 "nbformat_minor": 5
}
