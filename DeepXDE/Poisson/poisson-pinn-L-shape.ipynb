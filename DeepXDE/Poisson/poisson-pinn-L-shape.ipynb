{
 "cells": [
  {
   "cell_type": "markdown",
   "metadata": {},
   "source": [
    "# Solving Poisson's Equation on an L-shaped Domain using PINNs with DeepXDE\n",
    "\n",
    "This notebook demonstrates how to use Physics-Informed Neural Networks (PINNs) implemented with the DeepXDE library to solve Poisson's equation on a non-trivial L-shaped domain.\n",
    "\n",
    "**Poisson's Equation:** Δu(x, y) = f(x, y)\n",
    "In this example, we will solve for f(x,y) = 1.\n",
    "\n",
    "**L-shaped Domain:** The domain is defined as `([0,1]x[0,1]) \\ ([0.5,1]x[0.5,1])`.\n",
    "\n",
    "**Boundary Conditions:** We will apply Dirichlet boundary conditions, u(x, y) = 0, on all boundaries of the domain."
   ]
  },
  {
   "cell_type": "markdown",
   "metadata": {},
   "source": [
    "## 1. Setup: Import Libraries"
   ]
  },
  {
   "cell_type": "code",
   "execution_count": null,
   "metadata": {},
   "outputs": [],
   "source": [
    "import deepxde as dde\n",
    "import numpy as np\n",
    "import matplotlib.pyplot as plt"
   ]
  },
  {
   "cell_type": "markdown",
   "metadata": {},
   "source": [
    "## 2. Geometry Definition\n",
    "\n",
    "The L-shaped domain is defined by the following vertices: \n",
    "P1=(0,0), P2=(1,0), P3=(1,0.5), P4=(0.5,0.5), P5=(0.5,1), P6=(0,1)."
   ]
  },
  {
   "cell_type": "code",
   "execution_count": null,
   "metadata": {},
   "outputs": [],
   "source": [
    "vertices = [[0,0], [1,0], [1,0.5], [0.5,0.5], [0.5,1], [0,1]]\n",
    "geom = dde.geometry.Polygon(vertices)\n",
    "\n",
    "# Optional: Plot geometry to verify\n",
    "plt.figure(figsize=(6,6))\n",
    "plt.plot(*zip(*vertices + [vertices[0]]), 'b-', label='Domain Boundary') # Close the polygon\n",
    "plt.fill(*zip(*vertices), 'lightblue', alpha=0.5) # Fill the polygon\n",
    "plt.xlabel('x')\n",
    "plt.ylabel('y')\n",
    "plt.title('L-shaped Domain Geometry')\n",
    "plt.gca().set_aspect('equal', adjustable='box')\n",
    "plt.legend()\n",
    "plt.grid(True)\n",
    "plt.show()"
   ]
  },
  {
   "cell_type": "markdown",
   "metadata": {},
   "source": [
    "## 3. PDE and Boundary Condition Definition\n",
    "\n",
    "**PDE:** Δu - 1 = 0 (Laplacian of u is equal to 1)\n",
    "\n",
    "**Boundary Condition:** u = 0 on all boundaries."
   ]
  },
  {
   "cell_type": "code",
   "execution_count": null,
   "metadata": {},
   "outputs": [],
   "source": [
    "def pde(x, y):\n",
    "    \"\"\"Defines the Poisson equation: dy_xx + dy_yy - 1 = 0\"\"\"\n",
    "    # y is the network output u(x,y)\n",
    "    # x is the input tensor with x[:, 0] as x-coordinates and x[:, 1] as y-coordinates\n",
    "    dy_xx = dde.grad.hessian(y, x, i=0, j=0)\n",
    "    dy_yy = dde.grad.hessian(y, x, i=1, j=1)\n",
    "    return dy_xx + dy_yy - 1.0\n",
    "\n",
    "def boundary_func(_, on_boundary):\n",
    "    \"\"\"Helper function to identify all points on the boundary.\"\"\"\n",
    "    return on_boundary\n",
    "\n",
    "def func_boundary_val(x):\n",
    "    \"\"\"Returns the value of the solution on the boundary (0 for this problem).\"\"\"\n",
    "    return np.zeros((x.shape[0], 1), dtype=dde.config.real(np))\n",
    "\n",
    "# Create the Dirichlet Boundary Condition\n",
    "bc = dde.DirichletBC(\n",
    "    geom,\n",
    "    func_boundary_val, \n",
    "    boundary_func\n",
    ")"
   ]
  },
  {
   "cell_type": "markdown",
   "metadata": {},
   "source": [
    "## 4. Problem Setup (Data)\n",
    "\n",
    "We define the PDE problem using `dde.data.PDE`, specifying the geometry, PDE, boundary conditions, and the number of training/testing points."
   ]
  },
  {
   "cell_type": "code",
   "execution_count": null,
   "metadata": {},
   "outputs": [],
   "source": [
    "# Number of training points\n",
    "N_domain = 2000    # Points inside the domain\n",
    "N_boundary = 500   # Points on the boundary\n",
    "\n",
    "# Number of test points for validation (monitored during training)\n",
    "N_test = 500\n",
    "\n",
    "data = dde.data.PDE(\n",
    "    geom,\n",
    "    pde,\n",
    "    bc,\n",
    "    num_domain=N_domain,\n",
    "    num_boundary=N_boundary,\n",
    "    num_test=N_test,\n",
    "    solution=None # No analytical solution provided for testing against\n",
    ")"
   ]
  },
  {
   "cell_type": "markdown",
   "metadata": {},
   "source": [
    "## 5. Network and Model Creation\n",
    "\n",
    "We define a Feed-forward Neural Network (FNN) to approximate the solution."
   ]
  },
  {
   "cell_type": "code",
   "execution_count": null,
   "metadata": {},
   "outputs": [],
   "source": [
    "# Network parameters\n",
    "input_dim = 2  # (x, y)\n",
    "output_dim = 1 # u(x,y)\n",
    "num_hidden_layers = 4\n",
    "neurons_per_layer = 50\n",
    "activation_fn = \"tanh\"\n",
    "kernel_initializer = \"Glorot uniform\"\n",
    "\n",
    "net = dde.maps.FNN(\n",
    "    [input_dim] + [neurons_per_layer] * num_hidden_layers + [output_dim],\n",
    "    activation_fn,\n",
    "    kernel_initializer\n",
    ")\n",
    "\n",
    "# Create the DeepXDE model\n",
    "model = dde.Model(data, net)"
   ]
  },
  {
   "cell_type": "markdown",
   "metadata": {},
   "source": [
    "## 6. Model Training\n",
    "\n",
    "The model is compiled with an optimizer and learning rate, then trained for a specified number of iterations."
   ]
  },
  {
   "cell_type": "code",
   "execution_count": null,
   "metadata": {},
   "outputs": [],
   "source": [
    "# Compile the model\n",
    "learning_rate = 1e-3\n",
    "model.compile(\"adam\", lr=learning_rate)\n",
    "\n",
    "# Train the model\n",
    "num_iterations = 20000 # Adjust as needed based on loss behavior\n",
    "print(f\"Starting training for {num_iterations} iterations...\")\n",
    "losshistory, train_state = model.train(iterations=num_iterations)\n",
    "print(\"Training finished.\")"
   ]
  },
  {
   "cell_type": "markdown",
   "metadata": {},
   "source": [
    "## 7. Results and Visualization\n",
    "\n",
    "We visualize the training progress (loss history) and the predicted solution on the L-shaped domain."
   ]
  },
  {
   "cell_type": "code",
   "execution_count": null,
   "metadata": {},
   "outputs": [],
   "source": [
    "# Plot loss history\n",
    "dde.utils.plot_loss_history(losshistory)\n",
    "plt.title('Loss History (Log Scale)')\n",
    "plt.show()\n",
    "\n",
    "# Plot the predicted solution\n",
    "plot_resolution = 100\n",
    "x_plot = np.linspace(0, 1, plot_resolution)\n",
    "y_plot = np.linspace(0, 1, plot_resolution)\n",
    "X_plot, Y_plot = np.meshgrid(x_plot, y_plot)\n",
    "plot_points_flat = np.vstack((X_plot.ravel(), Y_plot.ravel())).T\n",
    "\n",
    "# Filter points to be within the L-shaped geometry\n",
    "is_inside_domain = geom.inside(plot_points_flat)\n",
    "plot_points_inside = plot_points_flat[is_inside_domain]\n",
    "\n",
    "if plot_points_inside.shape[0] > 0:\n",
    "    u_pred_inside = model.predict(plot_points_inside)\n",
    "    \n",
    "    plt.figure(figsize=(8, 6))\n",
    "    # tricontourf is good for unstructured data which plot_points_inside is\n",
    "    plt.tricontourf(plot_points_inside[:, 0], plot_points_inside[:, 1], u_pred_inside.ravel(), levels=100, cmap='viridis')\n",
    "    plt.colorbar(label='Predicted u(x,y)')\n",
    "    plt.xlabel('x')\n",
    "    plt.ylabel('y')\n",
    "    plt.title('Predicted Solution u(x,y) on L-shaped Domain')\n",
    "    plt.gca().set_aspect('equal', adjustable='box')\n",
    "else:\n",
    "    plt.figure(figsize=(8, 6))\n",
    "    plt.text(0.5, 0.5, \"No points found inside domain for plotting\", ha='center', va='center')\n",
    "    plt.xlabel('x')\n",
    "    plt.ylabel('y')\n",
    "    plt.title('Predicted Solution u(x,y) on L-shaped Domain')\n",
    "\n",
    "plt.show()"
   ]
  },
  {
   "cell_type": "markdown",
   "metadata": {},
   "source": [
    "## 8. Conclusion\n",
    "\n",
    "This notebook demonstrated the setup and solution of Poisson's equation on an L-shaped domain using DeepXDE. The key steps involved:\n",
    "1. Defining the complex geometry.\n",
    "2. Setting up the PDE and boundary conditions.\n",
    "3. Configuring the neural network and PINN model.\n",
    "4. Training the model.\n",
    "5. Visualizing the results (loss history and solution plot).\n",
    "\n",
    "Further improvements or explorations could include:\n",
    "- Trying different source functions `f(x,y)`.\n",
    "- Experimenting with Neumann or Robin boundary conditions.\n",
    "- Adjusting network architecture (layers, neurons, activation functions).\n",
    "- Using adaptive learning rates or more advanced optimization schemes (e.g., L-BFGS after Adam).\n",
    "- Comparing with analytical solutions if available for specific `f(x,y)` and BCs (though challenging for L-shapes)."
   ]
  }
 ],
 "metadata": {
  "kernelspec": {
   "display_name": "Python 3",
   "language": "python",
   "name": "python3"
  },
  "language_info": {
   "codemirror_mode": {
    "name": "ipython",
    "version": 3
   },
   "file_extension": ".py",
   "mimetype": "text/x-python",
   "name": "python",
   "nbconvert_exporter": "python",
   "pygments_lexer": "ipython3",
   "version": "3.9.7"
  }
 },
 "nbformat": 4,
 "nbformat_minor": 5
}
