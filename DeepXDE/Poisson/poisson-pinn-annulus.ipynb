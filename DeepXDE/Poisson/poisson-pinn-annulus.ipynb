{
 "cells": [
  {
   "cell_type": "markdown",
   "metadata": {},
   "source": [
    "# Solving Laplace's Equation on an Annulus using PINNs with DeepXDE\n",
    "\n",
    "This notebook demonstrates how to use Physics-Informed Neural Networks (PINNs) with DeepXDE to solve Laplace's equation (Δu = 0) on an annular domain.\n",
    "\n",
    "**Laplace's Equation:** Δu(x, y) = 0\n",
    "\n",
    "**Annulus Domain:** The domain is an annulus centered at the origin [0,0] with an inner radius of 1 and an outer radius of 2.\n",
    "\n",
    "**Boundary Conditions:**\n",
    "1. Outer boundary (r=2): u = 0 (Dirichlet)\n",
    "2. Inner boundary (r=1): u = sin(θ) (Dirichlet, angle-dependent)"
   ]
  },
  {
   "cell_type": "markdown",
   "metadata": {},
   "source": [
    "## 1. Setup: Import Libraries"
   ]
  },
  {
   "cell_type": "code",
   "execution_count": null,
   "metadata": {},
   "outputs": [],
   "source": [
    "import deepxde as dde\n",
    "import numpy as np\n",
    "import matplotlib.pyplot as plt"
   ]
  },
  {
   "cell_type": "markdown",
   "metadata": {},
   "source": [
    "## 2. Geometry Definition\n",
    "\n",
    "The annulus is defined by an outer disk (radius 2) and an inner disk (radius 1), both centered at the origin. The annulus is the region between these two circles."
   ]
  },
  {
   "cell_type": "code",
   "execution_count": null,
   "metadata": {},
   "outputs": [],
   "source": [
    "center = [0, 0]\n",
    "r_outer = 2.0\n",
    "r_inner = 1.0\n",
    "\n",
    "disk_outer = dde.geometry.Disk(center, r_outer)\n",
    "disk_inner = dde.geometry.Disk(center, r_inner)\n",
    "\n",
    "# Define the annulus using CSG (Constructive Solid Geometry) difference\n",
    "geom = disk_outer - disk_inner\n",
    "\n",
    "# Optional: Plot geometry to verify\n",
    "fig, ax = plt.subplots(figsize=(6,6))\n",
    "ax.add_patch(plt.Circle(center, r_outer, color='lightblue', alpha=0.7, label='Outer Disk Region'))\n",
    "ax.add_patch(plt.Circle(center, r_inner, color='white', label='Inner Disk Region (Removed)'))\n",
    "ax.plot(*dde.geometry.Disk(center, r_outer).boundary_points().T, 'b-', label='Outer Boundary (r=2)')\n",
    "ax.plot(*dde.geometry.Disk(center, r_inner).boundary_points().T, 'r-', label='Inner Boundary (r=1)')\n",
    "ax.set_xlim([-r_outer-0.5, r_outer+0.5])\n",
    "ax.set_ylim([-r_outer-0.5, r_outer+0.5])\n",
    "ax.set_aspect('equal', adjustable='box')\n",
    "plt.xlabel('x')\n",
    "plt.ylabel('y')\n",
    "plt.title('Annulus Domain Geometry')\n",
    "plt.legend()\n",
    "plt.grid(True)\n",
    "plt.show()"
   ]
  },
  {
   "cell_type": "markdown",
   "metadata": {},
   "source": [
    "## 3. PDE and Boundary Condition Definition\n",
    "\n",
    "**PDE:** Δu = 0 (Laplacian of u is zero)\n",
    "\n",
    "**Boundary Conditions:**\n",
    "- Outer (r=2): u = 0\n",
    "- Inner (r=1): u = sin(θ)"
   ]
  },
  {
   "cell_type": "code",
   "execution_count": null,
   "metadata": {},
   "outputs": [],
   "source": [
    "def pde(x, y_pred):\n",
    "    \"\"\"Defines Laplace's equation: dy_xx + dy_yy = 0\"\"\"\n",
    "    dy_xx = dde.grad.hessian(y_pred, x, i=0, j=0)\n",
    "    dy_yy = dde.grad.hessian(y_pred, x, i=1, j=1)\n",
    "    return dy_xx + dy_yy\n",
    "\n",
    "# Outer Boundary (r=2, u=0)\n",
    "def boundary_outer(x_coords, on_boundary_annulus):\n",
    "    # x_coords are points on the boundary of the annulus.\n",
    "    # We need to select those that are on the outer circle (r=2).\n",
    "    return np.isclose(np.linalg.norm(x_coords, axis=-1), r_outer)\n",
    "\n",
    "def func_outer_val(x_coords):\n",
    "    return np.zeros((x_coords.shape[0], 1), dtype=dde.config.real(np))\n",
    "\n",
    "bc_outer = dde.DirichletBC(geom, func_outer_val, boundary_outer)\n",
    "\n",
    "# Inner Boundary (r=1, u=sin(theta))\n",
    "def boundary_inner(x_coords, on_boundary_annulus):\n",
    "    # Select points on the inner circle (r=1).\n",
    "    return np.isclose(np.linalg.norm(x_coords, axis=-1), r_inner)\n",
    "\n",
    "def func_inner_val(x_coords):\n",
    "    # x_coords is a batch: x_coords[:, 0] is x, x_coords[:, 1] is y\n",
    "    cart_x = x_coords[:, 0:1]\n",
    "    cart_y = x_coords[:, 1:2]\n",
    "    theta = np.arctan2(cart_y, cart_x) # theta is in [-pi, pi]\n",
    "    return np.sin(theta)\n",
    "\n",
    "bc_inner = dde.DirichletBC(geom, func_inner_val, boundary_inner)\n",
    "\n",
    "# Combine boundary conditions\n",
    "bcs = [bc_outer, bc_inner]"
   ]
  },
  {
   "cell_type": "markdown",
   "metadata": {},
   "source": [
    "## 4. Problem Setup (Data)\n",
    "\n",
    "Define the PDE problem using `dde.data.PDE`, specifying geometry, PDE, BCs, and training/test points."
   ]
  },
  {
   "cell_type": "code",
   "execution_count": null,
   "metadata": {},
   "outputs": [],
   "source": [
    "# Number of training points\n",
    "N_domain = 3000    # Points inside the domain\n",
    "N_boundary = 1500  # Points on both boundaries (DeepXDE distributes these)\n",
    "\n",
    "# Number of test points for validation\n",
    "N_test = 1000\n",
    "\n",
    "data = dde.data.PDE(\n",
    "    geom,\n",
    "    pde,\n",
    "    bcs, # List of boundary condition objects\n",
    "    num_domain=N_domain,\n",
    "    num_boundary=N_boundary,\n",
    "    num_test=N_test,\n",
    "    solution=None # No analytical solution for testing this specific case easily\n",
    ")"
   ]
  },
  {
   "cell_type": "markdown",
   "metadata": {},
   "source": [
    "## 5. Network and Model Creation\n",
    "\n",
    "A Feed-forward Neural Network (FNN) approximates the solution u(x,y)."
   ]
  },
  {
   "cell_type": "code",
   "execution_count": null,
   "metadata": {},
   "outputs": [],
   "source": [
    "# Network parameters\n",
    "input_dim = 2  # (x, y)\n",
    "output_dim = 1 # u(x,y)\n",
    "num_hidden_layers = 4\n",
    "neurons_per_layer = 64 # Slightly increased neurons for potentially more complex solution\n",
    "activation_fn = \"tanh\"\n",
    "kernel_initializer = \"Glorot uniform\"\n",
    "\n",
    "net = dde.maps.FNN(\n",
    "    [input_dim] + [neurons_per_layer] * num_hidden_layers + [output_dim],\n",
    "    activation_fn,\n",
    "    kernel_initializer\n",
    ")\n",
    "\n",
    "# Create the DeepXDE model\n",
    "model = dde.Model(data, net)"
   ]
  },
  {
   "cell_type": "markdown",
   "metadata": {},
   "source": [
    "## 6. Model Training\n",
    "\n",
    "Compile the model and train it."
   ]
  },
  {
   "cell_type": "code",
   "execution_count": null,
   "metadata": {},
   "outputs": [],
   "source": [
    "# Compile the model\n",
    "learning_rate = 1e-3\n",
    "# Loss weights can be used to balance PDE and BC losses if needed, e.g., [1, 10, 10]\n",
    "model.compile(\"adam\", lr=learning_rate)\n",
    "\n",
    "# Train the model\n",
    "num_iterations = 25000 # Adjust based on loss behavior\n",
    "print(f\"Starting training for {num_iterations} iterations...\")\n",
    "losshistory, train_state = model.train(iterations=num_iterations, display_every=1000)\n",
    "print(\"Training finished.\")"
   ]
  },
  {
   "cell_type": "markdown",
   "metadata": {},
   "source": [
    "## 7. Results and Visualization\n",
    "\n",
    "Visualize training progress (loss history) and the predicted solution."
   ]
  },
  {
   "cell_type": "code",
   "execution_count": null,
   "metadata": {},
   "outputs": [],
   "source": [
    "# Plot loss history\n",
    "dde.utils.plot_loss_history(losshistory)\n",
    "plt.title('Loss History for Annulus Problem (Log Scale)')\n",
    "plt.show()\n",
    "\n",
    "# Plot the predicted solution\n",
    "plot_resolution = 100\n",
    "x_lin = np.linspace(-r_outer, r_outer, plot_resolution)\n",
    "y_lin = np.linspace(-r_outer, r_outer, plot_resolution)\n",
    "X_plot, Y_plot = np.meshgrid(x_lin, y_lin)\n",
    "plot_points_flat = np.vstack((X_plot.ravel(), Y_plot.ravel())).T\n",
    "\n",
    "# Filter points to be within the annulus\n",
    "is_inside_domain = geom.inside(plot_points_flat)\n",
    "plot_points_inside_annulus = plot_points_flat[is_inside_domain]\n",
    "\n",
    "if plot_points_inside_annulus.shape[0] > 0:\n",
    "    u_pred_annulus = model.predict(plot_points_inside_annulus)\n",
    "    \n",
    "    plt.figure(figsize=(8, 7))\n",
    "    contour = plt.tricontourf(\n",
    "        plot_points_inside_annulus[:, 0],\n",
    "        plot_points_inside_annulus[:, 1],\n",
    "        u_pred_annulus.ravel(),\n",
    "        levels=100,\n",
    "        cmap='viridis'\n",
    "    )\n",
    "    plt.colorbar(contour, label='Predicted u(x,y)')\n",
    "    plt.xlabel('x')\n",
    "    plt.ylabel('y')\n",
    "    plt.title('Predicted Solution u(x,y) on Annulus Domain')\n",
    "    ax = plt.gca()\n",
    "    ax.set_aspect('equal', adjustable='box')\n",
    "    \n",
    "    # Add circles for boundaries for visual clarity\n",
    "    circle_inner_plot = plt.Circle(center, r_inner, color='black', fill=False, linestyle='--', linewidth=1.0)\n",
    "    circle_outer_plot = plt.Circle(center, r_outer, color='black', fill=False, linestyle='--', linewidth=1.0)\n",
    "    ax.add_artist(circle_inner_plot)\n",
    "    ax.add_artist(circle_outer_plot)\n",
    "else:\n",
    "    plt.figure(figsize=(8, 7))\n",
    "    plt.text(0.5, 0.5, \"No points found inside annulus for plotting\", \n",
    "             horizontalalignment='center', verticalalignment='center', \n",
    "             transform=plt.gca().transAxes)\n",
    "    plt.xlabel('x')\n",
    "    plt.ylabel('y')\n",
    "    plt.title('Predicted Solution u(x,y) on Annulus Domain')\n",
    "\n",
    "plt.show()"
   ]
  },
  {
   "cell_type": "markdown",
   "metadata": {},
   "source": [
    "## 8. Conclusion\n",
    "\n",
    "This notebook demonstrated solving Laplace's equation on an annulus with angle-dependent Dirichlet boundary conditions using DeepXDE.\n",
    "\n",
    "Key steps included:\n",
    "1. Defining the annulus geometry using CSG operations.\n",
    "2. Setting up Laplace's PDE and two distinct Dirichlet boundary conditions (one constant, one angle-dependent).\n",
    "3. Configuring the PINN model (network architecture, data sampling).\n",
    "4. Training the model.\n",
    "5. Visualizing the loss history and the 2D solution plot.\n",
    "\n",
    "The known analytical solution for Laplace's equation in an annulus with u(r_inner, θ) = sin(θ) and u(r_outer, θ) = 0 is of the form u(r,θ) = (A*r + B/r)sin(θ). The constants A and B can be found by applying the boundary conditions:\n",
    "- At r = r_inner = 1:  (A*1 + B/1)sin(θ) = sin(θ)  => A + B = 1\n",
    "- At r = r_outer = 2:  (A*2 + B/2)sin(θ) = 0      => 2A + B/2 = 0 => 4A + B = 0\n",
    "\n",
    "Solving these: \n",
    "(4A + B) - (A + B) = 0 - 1 => 3A = -1 => A = -1/3\n",
    "B = 1 - A = 1 - (-1/3) = 4/3\n",
    "\n",
    "So, the analytical solution is u(r,θ) = (-1/3 * r + 4/3 / r)sin(θ).\n",
    "This could be used for a more quantitative error analysis if desired."
   ]
  }
 ],
 "metadata": {
  "kernelspec": {
   "display_name": "Python 3",
   "language": "python",
   "name": "python3"
  },
  "language_info": {
   "codemirror_mode": {
    "name": "ipython",
    "version": 3
   },
   "file_extension": ".py",
   "mimetype": "text/x-python",
   "name": "python",
   "nbconvert_exporter": "python",
   "pygments_lexer": "ipython3",
   "version": "3.x.y"
  }
 },
 "nbformat": 4,
 "nbformat_minor": 5
}
