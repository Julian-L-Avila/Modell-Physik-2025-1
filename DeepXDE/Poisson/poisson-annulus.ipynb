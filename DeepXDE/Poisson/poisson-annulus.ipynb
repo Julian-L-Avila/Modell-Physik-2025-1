{
 "cells": [
  {
   "cell_type": "code",
   "execution_count": null,
   "metadata": {},
   "outputs": [],
   "source": [
    "import torch\n",
    "if torch.cuda.is_available():\n",
    "    print(\"GPU is available!\")\n",
    "    print(\"Device Name:\", torch.cuda.get_device_name(0))\n",
    "else:\n",
    "    print(\"GPU is not available.\")"
   ]
  },
  {
   "cell_type": "code",
   "execution_count": null,
   "metadata": {},
   "outputs": [],
   "source": [
    "import numpy as np\n",
    "import torch\n",
    "import matplotlib.pyplot as plt\n",
    "import matplotlib.tri as tri\n",
    "import deepxde as dde\n",
    "import os\n",
    "\n",
    "# Set the backend to PyTorch\n",
    "os.environ['DDE_BACKEND'] = 'pytorch'\n",
    "dde.config.set_random_seed(42)"
   ]
  },
  {
   "cell_type": "markdown",
   "source": [
    "## 1. Problem Definition: Geometry, PDE, and Boundary Conditions"
   ]
  },
  {
   "cell_type": "code",
   "execution_count": null,
   "metadata": {},
   "outputs": [],
   "source": [
    "# Define the Annulus Geometry\n",
    "# Inner radius r1 = 1, Outer radius r2 = 2\n",
    "r1 = 1.0\n",
    "r2 = 2.0\n",
    "\n",
    "disk_outer = dde.geometry.Disk([0, 0], r2)\n",
    "disk_inner = dde.geometry.Disk([0, 0], r1)\n",
    "geom = dde.geometry.CSGDifference(disk_outer, disk_inner)\n",
    "\n",
    "# Define the PDE (Laplace equation for now: ∇²u = 0)\n",
    "def pde(x, u):\n",
    "    \"\"\"\n",
    "    Defines the residual of the Laplace equation: ∇²u = 0.\n",
    "    Args:\n",
    "        x: A tensor of coordinates (x, y) with shape [N, 2].\n",
    "        u: The network's output tensor u(x, y) with shape [N, 1].\n",
    "    Returns:\n",
    "        The PDE residual tensor.\n",
    "    \"\"\"\n",
    "    dudx2 = dde.grad.hessian(u, x, i=0, j=0)\n",
    "    dudy2 = dde.grad.hessian(u, x, i=1, j=1)\n",
    "    laplacian = dudx2 + dudy2\n",
    "    return laplacian\n",
    "\n",
    "# Define Boundary Conditions\n",
    "def boundary_outer(x, on_boundary):\n",
    "    # x is a [N, 2] array for (x,y) coordinates\n",
    "    # Check if points are on the outer circle (r=r2)\n",
    "    return on_boundary and np.isclose(np.sqrt(x[0]**2 + x[1]**2), r2)\n",
    "\n",
    "def boundary_inner(x, on_boundary):\n",
    "    # Check if points are on the inner circle (r=r1)\n",
    "    return on_boundary and np.isclose(np.sqrt(x[0]**2 + x[1]**2), r1)\n",
    "\n",
    "def func_outer(x):\n",
    "    # u = 0 on the outer boundary\n",
    "    return 0\n",
    "\n",
    "def func_inner(x):\n",
    "    # u = sin(theta) on the inner boundary\n",
    "    # x_val = x[:, 0:1]\n",
    "    # y_val = x[:, 1:2]\n",
    "    x_val = x[:, 0]\n",
    "    y_val = x[:, 1]\n",
    "    theta = np.arctan2(y_val, x_val) # theta = arctan(y/x)\n",
    "    return np.sin(theta).reshape(-1,1) # Ensure output shape is [N,1]\n",
    "\n",
    "bc_outer = dde.DirichletBC(geom, func_outer, boundary_outer)\n",
    "bc_inner = dde.DirichletBC(geom, func_inner, boundary_inner)\n",
    "\n",
    "bcs = [bc_outer, bc_inner]"
   ]
  },
  {
   "cell_type": "markdown",
   "source": [
    "## 2. Create the Model and Data"
   ]
  },
  {
   "cell_type": "code",
   "execution_count": null,
   "metadata": {},
   "outputs": [],
   "source": [
    "data = dde.data.PDE(\n",
    "    geom,\n",
    "    pde,\n",
    "    bcs,\n",
    "    num_domain=2500, # Number of points inside the domain\n",
    "    num_boundary=800,  # Number of points on the boundary\n",
    "    num_test=1000,     # Number of points for testing (if solution is known)\n",
    "    # solution=analytical_solution # Add if an analytical solution is available for error metric\n",
    ")\n",
    "\n",
    "# Define the neural network\n",
    "net = dde.nn.FNN([2] + [50] * 4 + [1], \"tanh\", \"Glorot normal\")\n",
    "\n",
    "# Create the model\n",
    "model = dde.Model(data, net)"
   ]
  },
  {
   "cell_type": "markdown",
   "source": [
    "## 3. Train the Model"
   ]
  },
  {
   "cell_type": "code",
   "execution_count": null,
   "metadata": {},
   "outputs": [],
   "source": [
    "# Compile and train the model (Adam)\n",
    "model.compile(\"adam\", lr=1e-3)\n",
    "losshistory_adam, train_state_adam = model.train(iterations=15000)\n",
    "\n",
    "# Compile and train the model (L-BFGS)\n",
    "model.compile(\"L-BFGS\")\n",
    "losshistory_lbfgs, train_state_lbfgs = model.train()"
   ]
  },
  {
   "cell_type": "markdown",
   "source": [
    "## 4. Visualize the Results"
   ]
  },
  {
   "cell_type": "code",
   "execution_count": null,
   "metadata": {},
   "outputs": [],
   "source": [
    "def plot_loss_history(losshistory, title_suffix):\n",
    "    loss_train = np.sum(losshistory.loss_train, axis=1)\n",
    "    loss_test = np.sum(losshistory.loss_test, axis=1)\n",
    "    steps = losshistory.steps\n",
    "\n",
    "    plt.figure(figsize=(10, 6))\n",
    "    plt.plot(steps, loss_train, label='Train Loss', color='blue')\n",
    "    plt.plot(steps, loss_test, label='Test Loss', color='red', linestyle='--')\n",
    "    plt.yscale('log')\n",
    "    plt.title(f'Training and Test Loss History ({title_suffix})')\n",
    "    plt.xlabel('Optimization Step')\n",
    "    plt.ylabel('Log-scale Loss')\n",
    "    plt.legend()\n",
    "    plt.grid(True, which=\"both\", ls=\"--\")\n",
    "    plt.tight_layout()\n",
    "    plt.savefig(f\"poisson_annulus_loss_history_{title_suffix.lower()}.png\")\n",
    "    plt.show()\n",
    "\n",
    "plot_loss_history(losshistory_adam, \"Adam\")\n",
    "plot_loss_history(losshistory_lbfgs, \"L-BFGS\")\n",
    "\n",
    "# Generate points for plotting\n",
    "n_points = 200\n",
    "x_range = np.linspace(-r2, r2, n_points)\n",
    "y_range = np.linspace(-r2, r2, n_points)\n",
    "grid_x, grid_y = np.meshgrid(x_range, y_range)\n",
    "plot_points_cartesian = np.hstack((grid_x.flatten()[:, None], grid_y.flatten()[:, None]))\n",
    "\n",
    "# Keep only points inside the annulus\n",
    "is_inside_annulus = geom.inside(plot_points_cartesian)\n",
    "plot_points_annulus = plot_points_cartesian[is_inside_annulus]\n",
    "\n",
    "# Make predictions\n",
    "u_pred_annulus = model.predict(plot_points_annulus)\n",
    "\n",
    "# 2D Contour Plot\n",
    "plt.figure(figsize=(8, 8))\n",
    "triang = tri.Triangulation(plot_points_annulus[:, 0], plot_points_annulus[:, 1])\n",
    "contour = plt.tricontourf(triang, u_pred_annulus.flatten(), levels=100, cmap='viridis')\n",
    "plt.colorbar(contour, label='u(x,y)')\n",
    "plt.xlabel('x')\n",
    "plt.ylabel('y')\n",
    "plt.title('PINN Predicted Solution on Annulus')\n",
    "plt.axis('equal')\n",
    "plt.savefig(\"poisson_annulus_solution_2D.png\")\n",
    "plt.show()\n",
    "\n",
    "# 3D Surface Plot\n",
    "fig = plt.figure(figsize=(10, 8))\n",
    "ax = fig.add_subplot(111, projection='3d')\n",
    "ax.plot_trisurf(plot_points_annulus[:, 0], plot_points_annulus[:, 1], u_pred_annulus.flatten(), cmap='viridis', edgecolor='none')\n",
    "ax.set_xlabel('x')\n",
    "ax.set_ylabel('y')\n",
    "ax.set_zlabel('u(x,y)')\n",
    "ax.set_title('3D PINN Predicted Solution on Annulus')\n",
    "plt.savefig(\"poisson_annulus_solution_3D.png\")\n",
    "plt.show()"
   ]
  }
 ],
 "metadata": {
  "kernelspec": {
   "display_name": "Python 3",
   "language": "python",
   "name": "python3"
  },
  "language_info": {
   "codemirror_mode": {
    "name": "ipython",
    "version": 3
   },
   "file_extension": ".py",
   "mimetype": "text/x-python",
   "name": "python",
   "nbconvert_exporter": "python",
   "pygments_lexer": "ipython3",
   "version": "3.9.7"
  }
 },
 "nbformat": 4,
 "nbformat_minor": 5
}
